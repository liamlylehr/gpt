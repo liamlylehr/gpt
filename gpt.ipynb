{
 "cells": [
  {
   "cell_type": "code",
   "execution_count": 22,
   "id": "5a83bb4f-7adc-4796-b6d5-9fea0a195039",
   "metadata": {},
   "outputs": [],
   "source": [
    "import requests\n",
    "import torch\n",
    "import torch.nn as nn\n",
    "from torch.nn import functional as F\n",
    "\n",
    "url = \"https://raw.githubusercontent.com/karpathy/char-rnn/master/data/tinyshakespeare/input.txt\"\n",
    "response = requests.get(url)\n",
    "with open(\"input.txt\", \"wb\") as f:\n",
    "   f.write(response.content)"
   ]
  },
  {
   "cell_type": "code",
   "execution_count": 23,
   "id": "b58610f4-7920-40ad-979a-70bde0a84bf2",
   "metadata": {},
   "outputs": [],
   "source": [
    "with open('input.txt', 'r', encoding='utf-8') as f:\n",
    "    text = f.read()"
   ]
  },
  {
   "cell_type": "code",
   "execution_count": 24,
   "id": "5ad2bc22-6bfc-4fe6-bbd8-75afb6484316",
   "metadata": {},
   "outputs": [
    {
     "name": "stdout",
     "output_type": "stream",
     "text": [
      "First Citizen:\n",
      "Before we proceed any further, hear me speak.\n",
      "\n",
      "All:\n",
      "Speak, speak.\n",
      "\n",
      "First Citizen:\n",
      "You are all resolved rather to die than to famish?\n",
      "\n"
     ]
    }
   ],
   "source": [
    "print(text[:148])"
   ]
  },
  {
   "cell_type": "code",
   "execution_count": 25,
   "id": "6ae3c365-71fb-4ee7-a499-0cec7dc5708a",
   "metadata": {
    "scrolled": true
   },
   "outputs": [
    {
     "name": "stdout",
     "output_type": "stream",
     "text": [
      "There are 65 unique characters. They're as below:\n",
      "\n",
      " !$&',-.3:;?ABCDEFGHIJKLMNOPQRSTUVWXYZabcdefghijklmnopqrstuvwxyz\n"
     ]
    }
   ],
   "source": [
    "chars = sorted(list(set(text)))\n",
    "vocab_size = len(chars)\n",
    "print(f\"There are {vocab_size} unique characters. They're as below:\")\n",
    "print(''.join(chars))"
   ]
  },
  {
   "cell_type": "code",
   "execution_count": 26,
   "id": "57a58620-ff89-4eb9-819b-39b1dccc1136",
   "metadata": {},
   "outputs": [
    {
     "name": "stdout",
     "output_type": "stream",
     "text": [
      "[46, 43, 50, 50, 53, 1, 61, 53, 56, 50, 42]\n",
      "hello world\n"
     ]
    }
   ],
   "source": [
    "\"\"\"\n",
    "Create mappings, string to integer (stoi) and integer to string (itos)\n",
    "\"\"\"\n",
    "stoi = { ch:i for i,ch in enumerate(chars) }\n",
    "itos = { i:ch for i,ch in enumerate(chars) }\n",
    "# encode : string -> list of integers\n",
    "encode = lambda s: [ stoi[c] for c in s ]\n",
    "# decode : list of integers -> string\n",
    "decode = lambda l: ''.join([ itos[i] for i in l ])\n",
    "\n",
    "print(encode(\"hello world\"))\n",
    "print(decode(encode(\"hello world\")))"
   ]
  },
  {
   "cell_type": "code",
   "execution_count": 27,
   "id": "04872106-0f4e-462e-8f9c-5944d62a0f26",
   "metadata": {},
   "outputs": [
    {
     "name": "stdout",
     "output_type": "stream",
     "text": [
      "torch.Size([1115394]) torch.int64\n",
      "tensor([18, 47, 56, 57, 58,  1, 15, 47, 58, 47, 64, 43, 52, 10,  0, 14, 43, 44,\n",
      "        53, 56, 43,  1, 61, 43,  1, 54, 56, 53, 41, 43, 43, 42,  1, 39, 52, 63,\n",
      "         1, 44, 59, 56, 58, 46, 43, 56,  6,  1, 46, 43, 39, 56,  1, 51, 43,  1,\n",
      "        57, 54, 43, 39, 49,  8,  0,  0, 13, 50, 50, 10,  0, 31, 54, 43, 39, 49,\n",
      "         6,  1, 57, 54, 43, 39, 49,  8,  0,  0, 18, 47, 56, 57, 58,  1, 15, 47,\n",
      "        58, 47, 64, 43, 52, 10,  0, 37, 53, 59,  1, 39, 56, 43,  1, 39, 50, 50,\n",
      "         1, 56, 43, 57, 53, 50, 60, 43, 42,  1, 56, 39, 58, 46, 43, 56,  1, 58,\n",
      "        53,  1, 42, 47, 43,  1, 58, 46, 39, 52,  1, 58, 53,  1, 44, 39, 51, 47,\n",
      "        57, 46, 12,  0])\n"
     ]
    }
   ],
   "source": [
    "# Encode the entire text and store in a torch.tensor\n",
    "data = torch.tensor(encode(text), dtype=torch.long)\n",
    "print(data.shape, data.dtype)\n",
    "print(data[:148])"
   ]
  },
  {
   "cell_type": "code",
   "execution_count": 28,
   "id": "1d384efa-9e55-4d26-bc9a-3db7b5d93de3",
   "metadata": {},
   "outputs": [],
   "source": [
    "n = int(0.9*len(data))\n",
    "\n",
    "train_data = data[:n]\n",
    "val_data = data[n:]"
   ]
  },
  {
   "cell_type": "code",
   "execution_count": 29,
   "id": "2dced37e-b1eb-4d6c-b042-2d51eb2cc30e",
   "metadata": {},
   "outputs": [
    {
     "data": {
      "text/plain": [
       "tensor([18, 47, 56, 57, 58,  1, 15, 47, 58])"
      ]
     },
     "execution_count": 29,
     "metadata": {},
     "output_type": "execute_result"
    }
   ],
   "source": [
    "# size of the training block\n",
    "block_size = 8\n",
    "train_data[:block_size+1]"
   ]
  },
  {
   "cell_type": "code",
   "execution_count": 30,
   "id": "462fa576-9267-479e-8192-0e79bb1d8470",
   "metadata": {},
   "outputs": [
    {
     "name": "stdout",
     "output_type": "stream",
     "text": [
      "when input is tensor([18]) the target: 47\n",
      "when input is tensor([18, 47]) the target: 56\n",
      "when input is tensor([18, 47, 56]) the target: 57\n",
      "when input is tensor([18, 47, 56, 57]) the target: 58\n",
      "when input is tensor([18, 47, 56, 57, 58]) the target: 1\n",
      "when input is tensor([18, 47, 56, 57, 58,  1]) the target: 15\n",
      "when input is tensor([18, 47, 56, 57, 58,  1, 15]) the target: 47\n",
      "when input is tensor([18, 47, 56, 57, 58,  1, 15, 47]) the target: 58\n"
     ]
    }
   ],
   "source": [
    "x = train_data[:block_size]\n",
    "y = train_data[1:block_size+1]\n",
    "for t in range(block_size):\n",
    "    context = x[:t+1]\n",
    "    target = y[t]\n",
    "    print(f\"when input is {context} the target: {target}\")"
   ]
  },
  {
   "cell_type": "code",
   "execution_count": 31,
   "id": "99fa30a3-99ae-4d56-9e1c-de711a8308b0",
   "metadata": {},
   "outputs": [
    {
     "name": "stdout",
     "output_type": "stream",
     "text": [
      "inputs:\n",
      "torch.Size([4, 8])\n",
      "tensor([[24, 43, 58,  5, 57,  1, 46, 43],\n",
      "        [44, 53, 56,  1, 58, 46, 39, 58],\n",
      "        [52, 58,  1, 58, 46, 39, 58,  1],\n",
      "        [25, 17, 27, 10,  0, 21,  1, 54]])\n",
      "\n",
      "targets:\n",
      "torch.Size([4, 8])\n",
      "tensor([[43, 58,  5, 57,  1, 46, 43, 39],\n",
      "        [53, 56,  1, 58, 46, 39, 58,  1],\n",
      "        [58,  1, 58, 46, 39, 58,  1, 46],\n",
      "        [17, 27, 10,  0, 21,  1, 54, 39]])\n",
      "----\n",
      "when input is [24], the target is 43\n",
      "when input is [24, 43], the target is 58\n",
      "when input is [24, 43, 58], the target is 5\n",
      "when input is [24, 43, 58, 5], the target is 57\n",
      "when input is [24, 43, 58, 5, 57], the target is 1\n",
      "when input is [24, 43, 58, 5, 57, 1], the target is 46\n",
      "when input is [24, 43, 58, 5, 57, 1, 46], the target is 43\n",
      "when input is [24, 43, 58, 5, 57, 1, 46, 43], the target is 39\n",
      "when input is [44], the target is 53\n",
      "when input is [44, 53], the target is 56\n",
      "when input is [44, 53, 56], the target is 1\n",
      "when input is [44, 53, 56, 1], the target is 58\n",
      "when input is [44, 53, 56, 1, 58], the target is 46\n",
      "when input is [44, 53, 56, 1, 58, 46], the target is 39\n",
      "when input is [44, 53, 56, 1, 58, 46, 39], the target is 58\n",
      "when input is [44, 53, 56, 1, 58, 46, 39, 58], the target is 1\n",
      "when input is [52], the target is 58\n",
      "when input is [52, 58], the target is 1\n",
      "when input is [52, 58, 1], the target is 58\n",
      "when input is [52, 58, 1, 58], the target is 46\n",
      "when input is [52, 58, 1, 58, 46], the target is 39\n",
      "when input is [52, 58, 1, 58, 46, 39], the target is 58\n",
      "when input is [52, 58, 1, 58, 46, 39, 58], the target is 1\n",
      "when input is [52, 58, 1, 58, 46, 39, 58, 1], the target is 46\n",
      "when input is [25], the target is 17\n",
      "when input is [25, 17], the target is 27\n",
      "when input is [25, 17, 27], the target is 10\n",
      "when input is [25, 17, 27, 10], the target is 0\n",
      "when input is [25, 17, 27, 10, 0], the target is 21\n",
      "when input is [25, 17, 27, 10, 0, 21], the target is 1\n",
      "when input is [25, 17, 27, 10, 0, 21, 1], the target is 54\n",
      "when input is [25, 17, 27, 10, 0, 21, 1, 54], the target is 39\n"
     ]
    }
   ],
   "source": [
    "torch.manual_seed(1337)\n",
    "batch_size = 4 # number of independent sequences to be processed parallely\n",
    "block_size = 8 # maximum context length\n",
    "\n",
    "def get_batch(split):\n",
    "    data = train_data if split == 'train' else val_data\n",
    "\n",
    "    # generate a tensor of values between 0 and len(data)-block_size with batch_size columns\n",
    "    # this will give us a random set of data to train on from the training data\n",
    "    ix = torch.randint(len(data) - block_size, (batch_size,))\n",
    "    \n",
    "    # get the blocks for each starting index in ix\n",
    "    # get the next elements to each token in x\n",
    "    x = torch.stack([data[i:i+block_size] for i in ix])\n",
    "    y = torch.stack([data[i+1:i+block_size+1] for i in ix])\n",
    "    return x, y\n",
    "\n",
    "xb, yb = get_batch('train')\n",
    "print(\"inputs:\")\n",
    "print(xb.shape)\n",
    "print(xb)\n",
    "print(\"\\ntargets:\")\n",
    "print(yb.shape)\n",
    "print(yb)\n",
    "print(\"----\")\n",
    "\n",
    "for b in range(batch_size):\n",
    "    for t in range(block_size):\n",
    "        # from xb tensor, get the values up to t+1 at row b\n",
    "        context = xb[b, :t+1]\n",
    "        # from yb tensor, get the t column of row b\n",
    "        target = yb[b,t]\n",
    "        print(f\"when input is {context.tolist()}, the target is {target}\")"
   ]
  },
  {
   "cell_type": "code",
   "execution_count": null,
   "id": "52bb8b98-819a-47f9-8739-8dbacb9f964f",
   "metadata": {},
   "outputs": [],
   "source": [
    "class BigramLanguageModel(nn.Module):\n",
    "\n",
    "    def __init__(self, vocab_size):\n",
    "        super().__init__()\n",
    "\n",
    "        self.token_embedding_table = nn.Embedding(vocab_size, vocab_size)"
   ]
  },
  {
   "cell_type": "code",
   "execution_count": null,
   "id": "05fbac4a-1475-416d-a539-0a9facecd575",
   "metadata": {},
   "outputs": [],
   "source": []
  },
  {
   "cell_type": "code",
   "execution_count": null,
   "id": "58fefc09-505a-47d1-b294-760cbd851916",
   "metadata": {},
   "outputs": [],
   "source": []
  }
 ],
 "metadata": {
  "kernelspec": {
   "display_name": "Python [conda env:base] *",
   "language": "python",
   "name": "conda-base-py"
  },
  "language_info": {
   "codemirror_mode": {
    "name": "ipython",
    "version": 3
   },
   "file_extension": ".py",
   "mimetype": "text/x-python",
   "name": "python",
   "nbconvert_exporter": "python",
   "pygments_lexer": "ipython3",
   "version": "3.11.13"
  }
 },
 "nbformat": 4,
 "nbformat_minor": 5
}
